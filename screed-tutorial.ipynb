{
 "cells": [
  {
   "cell_type": "code",
   "execution_count": 1,
   "metadata": {
    "collapsed": false
   },
   "outputs": [
    {
     "name": "stdout",
     "output_type": "stream",
     "text": [
      "Collecting git+https://github.com/dib-lab/screed.git\n",
      "  Cloning https://github.com/dib-lab/screed.git to /tmp/pip-ClPdki-build\n",
      "  Requirement already satisfied (use --upgrade to upgrade): screed==0.9+21.gce8a834 from git+https://github.com/dib-lab/screed.git in /home/main/anaconda2/lib/python2.7/site-packages\n",
      "Requirement already satisfied (use --upgrade to upgrade): bz2file in /home/main/anaconda2/lib/python2.7/site-packages (from screed==0.9+21.gce8a834)\n"
     ]
    }
   ],
   "source": [
    "!pip install git+https://github.com/dib-lab/screed.git"
   ]
  },
  {
   "cell_type": "markdown",
   "metadata": {},
   "source": [
    "## Basic screed loading of sequences"
   ]
  },
  {
   "cell_type": "code",
   "execution_count": 2,
   "metadata": {
    "collapsed": true
   },
   "outputs": [],
   "source": [
    "import screed"
   ]
  },
  {
   "cell_type": "code",
   "execution_count": 3,
   "metadata": {
    "collapsed": false
   },
   "outputs": [
    {
     "name": "stdout",
     "output_type": "stream",
     "text": [
      "\u001b[0m\u001b[01;34mdata\u001b[0m/  Dockerfile  Untitled1.ipynb  Untitled.ipynb\r\n"
     ]
    }
   ],
   "source": [
    "ls"
   ]
  },
  {
   "cell_type": "code",
   "execution_count": 4,
   "metadata": {
    "collapsed": false
   },
   "outputs": [
    {
     "name": "stdout",
     "output_type": "stream",
     "text": [
      "25k.fq.gz  chunks.fa.gz\r\n"
     ]
    }
   ],
   "source": [
    "ls data"
   ]
  },
  {
   "cell_type": "code",
   "execution_count": 20,
   "metadata": {
    "collapsed": false
   },
   "outputs": [
    {
     "name": "stdout",
     "output_type": "stream",
     "text": [
      "acido.chunk0\n",
      "GTCCCATGGAATCAATAGCTTACAGGACGTTAATGTGTGTTTTTTTAGCG\n",
      "515919\n",
      "acido.chunk1\n",
      "GATGATGCACATGGCGCAGCTTTCATATCCCTTGCAACTGGCACTTGCCG\n",
      "515919\n",
      "acido.chunk2\n",
      "TGTCGTGCTGGCCTTCCTTACTGGAATAGCTGGCGCTCTGTATCCGGCGG\n",
      "515919\n",
      "acido.chunk3\n",
      "TGGCCGATGGCGCGCACCAGGCCGGTCAGGCTCGCCGGCAGGGTCACGGG\n",
      "515919\n",
      "acido.chunk4\n",
      "GGAAACGTGACCAGCACCGTGCGCCGCCTGAACAAAGCATGAGAAAACTA\n",
      "515919\n",
      "acido.chunk5\n",
      "GCCTCGCCGCCATCGGCTACCTGATTCTCTTTGGATCGCTGCTCGGCTTC\n",
      "515919\n",
      "acido.chunk6\n",
      "TGAGGATGCTGAGTTTCCGCGATGGTGACTCCGGTGCCGGAGCCCGGAAC\n",
      "515919\n",
      "acido.chunk7\n",
      "CGTCGTCCTCTGTCTGGGCGCCGACCTTCTGGTTGATCAACAGGCCCGCG\n",
      "515919\n"
     ]
    }
   ],
   "source": [
    "for r in screed.open('data/chunks.fa.gz'):\n",
    "    print r.name\n",
    "    print r.sequence[:50]\n",
    "    print len(r.sequence)"
   ]
  },
  {
   "cell_type": "code",
   "execution_count": 11,
   "metadata": {
    "collapsed": false
   },
   "outputs": [
    {
     "name": "stdout",
     "output_type": "stream",
     "text": [
      "25k.fq.gz  chunks.fa.gz\r\n"
     ]
    }
   ],
   "source": [
    "ls data"
   ]
  },
  {
   "cell_type": "code",
   "execution_count": 14,
   "metadata": {
    "collapsed": false
   },
   "outputs": [
    {
     "name": "stdout",
     "output_type": "stream",
     "text": [
      "0\n",
      "895:1:1:1246:14654/1\n",
      "CAGGCGCCCACCACCGTGCCCTCCAACCTGATGGT\n",
      "][aaX__aa[`ZUZ[NONNFNNNNNO_____^RQ_\n",
      "1\n",
      "895:1:1:1248:9583/1\n",
      "ACTGGGCGTAGACGGTGTCCTCATCGGCACCAGC\n",
      "\\UJUWSSV[JQQWNP]]SZ]ZWU^]ZX][^TXR`\n",
      "2\n",
      "895:1:1:1252:19493/1\n",
      "CCGGCGTGGTTGGTGAGGTCACTGAGCTTCATGTC\n",
      "OOOKONNNNN__`R]O[TGTRSY[IUZ]]]__X__\n",
      "3\n",
      "895:1:1:1255:18861/1\n",
      "ACGACGAGAAGCTGATCTACCGCGCCGAGCGCATC\n",
      "bb_^^bb_XTbbbbbb_bab]KTITZQTZ]ZYT^^\n",
      "4\n",
      "895:1:1:1264:15854/1\n",
      "CGTGATGATGTGCTTGCGGCCGGAGGGCCTGTTGCCCAGG\n",
      "````W__ZZ`R__ZSOJNNNQWSQZ\\^X\\W_______J__\n",
      "5\n",
      "895:1:1:1265:2265/1\n",
      "TATAGCGTGAGGCGATGACGTTGCTGTCCTTGGCGCGGC\n",
      "`bbbbbbbbbbbbbUbbbbb]X_QXUQ[QWOPTTZ__X_\n",
      "6\n",
      "895:1:1:1273:17782/1\n",
      "TCGAAAATCACGTGGGAGATGCACTATCACGCGGTCGGTGAGGAAGTGACCGACCACACCGAGCTCGC\n",
      "OOOOONNNOO^^X^`]TVa]WWLSSKNNONI]S[Q]SWXZX_\\\\^ZF___Y\\V]]_____]KTRV^X^\n"
     ]
    }
   ],
   "source": [
    "for n, r in enumerate(screed.open('data/25k.fq.gz')):\n",
    "    print n\n",
    "    print r.name\n",
    "    print r.sequence\n",
    "    print r.quality\n",
    "    if n > 5:\n",
    "        break"
   ]
  },
  {
   "cell_type": "code",
   "execution_count": 17,
   "metadata": {
    "collapsed": false
   },
   "outputs": [
    {
     "name": "stdout",
     "output_type": "stream",
     "text": [
      "... 0\n",
      "... 10000\n",
      "... 20000\n"
     ]
    }
   ],
   "source": [
    "lengths = []\n",
    "for n, r in enumerate(screed.open('data/25k.fq.gz')):\n",
    "    if n % 10000 == 0:\n",
    "        print '...', n\n",
    "    lengths.append(len(r.sequence))\n",
    "\n"
   ]
  },
  {
   "cell_type": "code",
   "execution_count": 19,
   "metadata": {
    "collapsed": false
   },
   "outputs": [
    {
     "data": {
      "text/plain": [
       "(array([ 2295.,  2547.,  3178.,  3240.,  3005.,  3198.,  2511.,  2163.,\n",
       "         1283.,  1580.]),\n",
       " array([  31. ,   39.3,   47.6,   55.9,   64.2,   72.5,   80.8,   89.1,\n",
       "          97.4,  105.7,  114. ]),\n",
       " <a list of 10 Patch objects>)"
      ]
     },
     "execution_count": 19,
     "metadata": {},
     "output_type": "execute_result"
    },
    {
     "data": {
      "image/png": "[encoded data removed]",
      "text/plain": [
       "<matplotlib.figure.Figure at 0x7f98281a6d10>"
      ]
     },
     "metadata": {},
     "output_type": "display_data"
    }
   ],
   "source": [
    "%matplotlib inline\n",
    "from pylab import *\n",
    "hist(lengths)"
   ]
  },
  {
   "cell_type": "markdown",
   "metadata": {},
   "source": [
    "## Trimming or modifying sequence record"
   ]
  },
  {
   "cell_type": "code",
   "execution_count": 23,
   "metadata": {
    "collapsed": false
   },
   "outputs": [],
   "source": [
    "# renaming all the sequences\n",
    "with open('fubar-name.fq', 'w') as fp:\n",
    "    for n, record in enumerate(screed.open('data/25k.fq.gz')):\n",
    "        seq = record.sequence\n",
    "        qual = record.quality\n",
    "        name = 'seq{0}'.format(n)\n",
    "        fp.write('@{name}\\n{seq}\\n+\\n{qual}\\n'.format(name=name, seq=seq, qual=qual))"
   ]
  },
  {
   "cell_type": "code",
   "execution_count": 24,
   "metadata": {
    "collapsed": true
   },
   "outputs": [],
   "source": [
    "for new_record in screed.open('fubar-name.fq'):\n",
    "    pass"
   ]
  },
  {
   "cell_type": "code",
   "execution_count": 25,
   "metadata": {
    "collapsed": false
   },
   "outputs": [
    {
     "data": {
      "text/plain": [
       "u'seq24999'"
      ]
     },
     "execution_count": 25,
     "metadata": {},
     "output_type": "execute_result"
    }
   ],
   "source": [
    "new_record.name"
   ]
  },
  {
   "cell_type": "code",
   "execution_count": 27,
   "metadata": {
    "collapsed": true
   },
   "outputs": [],
   "source": [
    "# trim off the last base\n",
    "with open('fubar-name.fq', 'w') as fp:\n",
    "    for n, record in enumerate(screed.open('data/25k.fq.gz')):\n",
    "        seq = record.sequence[:-1]\n",
    "        qual = record.quality[:-1]\n",
    "        name = 'seq{0}'.format(n)\n",
    "        fp.write('@{name}\\n{seq}\\n+\\n{qual}\\n'.format(name=name, seq=seq, qual=qual))"
   ]
  },
  {
   "cell_type": "code",
   "execution_count": 28,
   "metadata": {
    "collapsed": true
   },
   "outputs": [],
   "source": [
    "# replace | with - in FASTA names\n",
    "with open('fubar-name.fa', 'w') as fp:\n",
    "    for n, record in enumerate(screed.open('data/25k.fq.gz')):\n",
    "        name = record.name.replace('|', '-')\n",
    "        fp.write('>{name}\\n{seq}\\n'.format(name=name, seq=record.sequence))"
   ]
  },
  {
   "cell_type": "code",
   "execution_count": 29,
   "metadata": {
    "collapsed": false
   },
   "outputs": [
    {
     "name": "stdout",
     "output_type": "stream",
     "text": [
      "this is a fastq record\n"
     ]
    }
   ],
   "source": [
    "# question: how do you know if you opened a FQ or a FA file?\n",
    "if hasattr(record, 'quality'):\n",
    "    print 'this is a fastq record'\n",
    "else:\n",
    "    print 'this is a fasta file'"
   ]
  },
  {
   "cell_type": "code",
   "execution_count": 33,
   "metadata": {
    "collapsed": false
   },
   "outputs": [
    {
     "name": "stdout",
     "output_type": "stream",
     "text": [
      "True\n",
      "][aaX__aa[`ZUZ[NONNFNNNNNO_____^RQ_\n"
     ]
    }
   ],
   "source": [
    "sniff_record = next(iter(screed.open('data/25k.fq.gz')))\n",
    "print hasattr(sniff_record, 'quality')\n",
    "print sniff_record.quality"
   ]
  },
  {
   "cell_type": "code",
   "execution_count": 34,
   "metadata": {
    "collapsed": false
   },
   "outputs": [
    {
     "name": "stdout",
     "output_type": "stream",
     "text": [
      "False\n"
     ]
    },
    {
     "ename": "AttributeError",
     "evalue": "quality",
     "output_type": "error",
     "traceback": [
      "\u001b[1;31m---------------------------------------------------------------------------\u001b[0m",
      "\u001b[1;31mAttributeError\u001b[0m                            Traceback (most recent call last)",
      "\u001b[1;32m<ipython-input-34-8b9051cf5de3>\u001b[0m in \u001b[0;36m<module>\u001b[1;34m()\u001b[0m\n\u001b[0;32m      1\u001b[0m \u001b[0msniff_record\u001b[0m \u001b[1;33m=\u001b[0m \u001b[0mnext\u001b[0m\u001b[1;33m(\u001b[0m\u001b[0miter\u001b[0m\u001b[1;33m(\u001b[0m\u001b[0mscreed\u001b[0m\u001b[1;33m.\u001b[0m\u001b[0mopen\u001b[0m\u001b[1;33m(\u001b[0m\u001b[1;34m'data/chunks.fa.gz'\u001b[0m\u001b[1;33m)\u001b[0m\u001b[1;33m)\u001b[0m\u001b[1;33m)\u001b[0m\u001b[1;33m\u001b[0m\u001b[0m\n\u001b[0;32m      2\u001b[0m \u001b[1;32mprint\u001b[0m \u001b[0mhasattr\u001b[0m\u001b[1;33m(\u001b[0m\u001b[0msniff_record\u001b[0m\u001b[1;33m,\u001b[0m \u001b[1;34m'quality'\u001b[0m\u001b[1;33m)\u001b[0m\u001b[1;33m\u001b[0m\u001b[0m\n\u001b[1;32m----> 3\u001b[1;33m \u001b[1;32mprint\u001b[0m \u001b[0msniff_record\u001b[0m\u001b[1;33m.\u001b[0m\u001b[0mquality\u001b[0m\u001b[1;33m\u001b[0m\u001b[0m\n\u001b[0m",
      "\u001b[1;32m/home/main/anaconda2/lib/python2.7/site-packages/screed/screedRecord.pyc\u001b[0m in \u001b[0;36m__getattr__\u001b[1;34m(self, name)\u001b[0m\n\u001b[0;32m     27\u001b[0m             \u001b[1;32mreturn\u001b[0m \u001b[0mself\u001b[0m\u001b[1;33m.\u001b[0m\u001b[0md\u001b[0m\u001b[1;33m[\u001b[0m\u001b[0mname\u001b[0m\u001b[1;33m]\u001b[0m\u001b[1;33m\u001b[0m\u001b[0m\n\u001b[0;32m     28\u001b[0m         \u001b[1;32mexcept\u001b[0m \u001b[0mKeyError\u001b[0m\u001b[1;33m:\u001b[0m\u001b[1;33m\u001b[0m\u001b[0m\n\u001b[1;32m---> 29\u001b[1;33m             \u001b[1;32mraise\u001b[0m \u001b[0mAttributeError\u001b[0m\u001b[1;33m(\u001b[0m\u001b[0mname\u001b[0m\u001b[1;33m)\u001b[0m\u001b[1;33m\u001b[0m\u001b[0m\n\u001b[0m\u001b[0;32m     30\u001b[0m \u001b[1;33m\u001b[0m\u001b[0m\n\u001b[0;32m     31\u001b[0m     \u001b[1;32mdef\u001b[0m \u001b[0m__len__\u001b[0m\u001b[1;33m(\u001b[0m\u001b[0mself\u001b[0m\u001b[1;33m)\u001b[0m\u001b[1;33m:\u001b[0m\u001b[1;33m\u001b[0m\u001b[0m\n",
      "\u001b[1;31mAttributeError\u001b[0m: quality"
     ]
    }
   ],
   "source": [
    "sniff_record = next(iter(screed.open('data/chunks.fa.gz')))\n",
    "print hasattr(sniff_record, 'quality')\n",
    "print sniff_record.quality"
   ]
  },
  {
   "cell_type": "markdown",
   "metadata": {},
   "source": [
    "## What is a screed Record?"
   ]
  },
  {
   "cell_type": "code",
   "execution_count": 35,
   "metadata": {
    "collapsed": false
   },
   "outputs": [
    {
     "data": {
      "text/plain": [
       "screed.screedRecord.Record"
      ]
     },
     "execution_count": 35,
     "metadata": {},
     "output_type": "execute_result"
    }
   ],
   "source": [
    "screed.Record"
   ]
  },
  {
   "cell_type": "code",
   "execution_count": 37,
   "metadata": {
    "collapsed": false
   },
   "outputs": [],
   "source": [
    "new_record = screed.Record(name='lisa', sequence='ATGCCAGA', quality='#'*8)"
   ]
  },
  {
   "cell_type": "code",
   "execution_count": 38,
   "metadata": {
    "collapsed": true
   },
   "outputs": [],
   "source": [
    "new_record.hereisanewattribute = 'something'"
   ]
  },
  {
   "cell_type": "code",
   "execution_count": 39,
   "metadata": {
    "collapsed": false
   },
   "outputs": [
    {
     "name": "stdout",
     "output_type": "stream",
     "text": [
      "{'quality': '########', 'name': 'lisa', 'sequence': 'ATGCCAGA'}\n"
     ]
    }
   ],
   "source": [
    "print new_record"
   ]
  },
  {
   "cell_type": "code",
   "execution_count": 40,
   "metadata": {
    "collapsed": false
   },
   "outputs": [
    {
     "name": "stdout",
     "output_type": "stream",
     "text": [
      "########\n"
     ]
    }
   ],
   "source": [
    "print new_record['quality']"
   ]
  },
  {
   "cell_type": "code",
   "execution_count": 41,
   "metadata": {
    "collapsed": false
   },
   "outputs": [
    {
     "name": "stdout",
     "output_type": "stream",
     "text": [
      "########\n"
     ]
    }
   ],
   "source": [
    "print new_record.quality"
   ]
  },
  {
   "cell_type": "markdown",
   "metadata": {},
   "source": [
    "## One more super useful feature: reverse complements"
   ]
  },
  {
   "cell_type": "code",
   "execution_count": 43,
   "metadata": {
    "collapsed": false
   },
   "outputs": [
    {
     "name": "stdout",
     "output_type": "stream",
     "text": [
      "CTCAATCCTGCCCAT\n"
     ]
    }
   ],
   "source": [
    "sequence = 'ATGGGCAGGATTGAG'\n",
    "print screed.rc(sequence)"
   ]
  },
  {
   "cell_type": "markdown",
   "metadata": {},
   "source": [
    "## suppose I wanted to grab a specific sequence"
   ]
  },
  {
   "cell_type": "code",
   "execution_count": 44,
   "metadata": {
    "collapsed": false
   },
   "outputs": [
    {
     "name": "stdout",
     "output_type": "stream",
     "text": [
      "acido.chunk5 515919\n"
     ]
    }
   ],
   "source": [
    "for record in screed.open('data/chunks.fa.gz'):\n",
    "    if record.name == 'acido.chunk5':\n",
    "        break\n",
    "        \n",
    "print record.name, len(record.sequence)"
   ]
  },
  {
   "cell_type": "code",
   "execution_count": 46,
   "metadata": {
    "collapsed": true
   },
   "outputs": [],
   "source": [
    "# something I do a lot of...\n",
    "names_to_retrieve = set()\n",
    "names_to_retrieve.add('acido.chunk5')\n",
    "names_to_retrieve.add('acido.chunk6')\n",
    "\n",
    "retrieved = []\n",
    "\n",
    "for record in screed.open('data/chunks.fa.gz'):\n",
    "    if record.name in names_to_retrieve:\n",
    "        retrieved.append(record)"
   ]
  },
  {
   "cell_type": "code",
   "execution_count": 47,
   "metadata": {
    "collapsed": false
   },
   "outputs": [
    {
     "data": {
      "text/plain": [
       "2"
      ]
     },
     "execution_count": 47,
     "metadata": {},
     "output_type": "execute_result"
    }
   ],
   "source": [
    "len(retrieved)"
   ]
  },
  {
   "cell_type": "code",
   "execution_count": 53,
   "metadata": {
    "collapsed": false
   },
   "outputs": [
    {
     "name": "stdout",
     "output_type": "stream",
     "text": [
      "Database saved in data/chunks.fa.gz_screed\r\n"
     ]
    }
   ],
   "source": [
    "# create database at command line\n",
    "!python -m screed.fadbm 'data/chunks.fa.gz'"
   ]
  },
  {
   "cell_type": "code",
   "execution_count": 61,
   "metadata": {
    "collapsed": false
   },
   "outputs": [
    {
     "name": "stdout",
     "output_type": "stream",
     "text": [
      "total 6620\r\n",
      "-rw-rw-r-- 1 main main 1437611 Oct  5 16:14 25k.fq.gz\r\n",
      "-rw-rw-r-- 1 main main 1188865 Oct  5 16:14 chunks.fa.gz\r\n",
      "-rw-r--r-- 1 main main 4149248 Oct  5 17:22 chunks.fa.gz_screed\r\n"
     ]
    }
   ],
   "source": [
    "ls -l data/"
   ]
  },
  {
   "cell_type": "code",
   "execution_count": 59,
   "metadata": {
    "collapsed": false
   },
   "outputs": [],
   "source": [
    "# load database in Python\n",
    "db = screed.ScreedDB('data/chunks.fa.gz')"
   ]
  },
  {
   "cell_type": "code",
   "execution_count": 55,
   "metadata": {
    "collapsed": true
   },
   "outputs": [],
   "source": [
    "record = db['acido.chunk5']"
   ]
  },
  {
   "cell_type": "code",
   "execution_count": 57,
   "metadata": {
    "collapsed": false
   },
   "outputs": [
    {
     "name": "stdout",
     "output_type": "stream",
     "text": [
      "acido.chunk5\n",
      "515919\n"
     ]
    }
   ],
   "source": [
    "print record.name\n",
    "print len(record.sequence)"
   ]
  },
  {
   "cell_type": "code",
   "execution_count": 62,
   "metadata": {
    "collapsed": false
   },
   "outputs": [
    {
     "data": {
      "text/plain": [
       "[u'acido.chunk0',\n",
       " u'acido.chunk1',\n",
       " u'acido.chunk2',\n",
       " u'acido.chunk3',\n",
       " u'acido.chunk4',\n",
       " u'acido.chunk5',\n",
       " u'acido.chunk6',\n",
       " u'acido.chunk7']"
      ]
     },
     "execution_count": 62,
     "metadata": {},
     "output_type": "execute_result"
    }
   ],
   "source": [
    "db.keys()"
   ]
  },
  {
   "cell_type": "code",
   "execution_count": 63,
   "metadata": {
    "collapsed": false
   },
   "outputs": [
    {
     "name": "stdout",
     "output_type": "stream",
     "text": [
      "acido.chunk0\n",
      "acido.chunk1\n",
      "acido.chunk2\n",
      "acido.chunk3\n",
      "acido.chunk4\n",
      "acido.chunk5\n",
      "acido.chunk6\n",
      "acido.chunk7\n"
     ]
    }
   ],
   "source": [
    "for name in db:\n",
    "    print name"
   ]
  },
  {
   "cell_type": "code",
   "execution_count": 67,
   "metadata": {
    "collapsed": false
   },
   "outputs": [
    {
     "name": "stdout",
     "output_type": "stream",
     "text": [
      "acido.chunk0\n",
      "515919\n",
      "acido.chunk1\n",
      "515919\n",
      "acido.chunk2\n",
      "515919\n",
      "acido.chunk3\n",
      "515919\n",
      "acido.chunk4\n",
      "515919\n",
      "acido.chunk5\n",
      "515919\n",
      "acido.chunk6\n",
      "515919\n",
      "acido.chunk7\n",
      "515919\n"
     ]
    }
   ],
   "source": [
    "for name in db:\n",
    "    record = db[name]\n",
    "    print record.name\n",
    "    print len(record.sequence)"
   ]
  },
  {
   "cell_type": "code",
   "execution_count": null,
   "metadata": {
    "collapsed": true
   },
   "outputs": [],
   "source": []
  }
 ],
 "metadata": {
  "kernelspec": {
   "display_name": "Python 2",
   "language": "python",
   "name": "python2"
  },
  "language_info": {
   "codemirror_mode": {
    "name": "ipython",
    "version": 2
   },
   "file_extension": ".py",
   "mimetype": "text/x-python",
   "name": "python",
   "nbconvert_exporter": "python",
   "pygments_lexer": "ipython2",
   "version": "2.7.11"
  }
 },
 "nbformat": 4,
 "nbformat_minor": 0
}
